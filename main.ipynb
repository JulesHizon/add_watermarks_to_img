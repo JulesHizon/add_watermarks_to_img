{
 "cells": [
  {
   "cell_type": "code",
   "execution_count": 1,
   "metadata": {},
   "outputs": [],
   "source": [
    "import cv2\n",
    "import matplotlib.pyplot as plt\n",
    "import numpy as np\n",
    "\n",
    "#LOAD WATERMARK\n",
    "watermark = cv2.imread('watermark-black-bg-01.png', cv2.IMREAD_UNCHANGED)\n",
    "watermark = cv2.resize(watermark, (0,0), fx=0.25, fy=0.25, interpolation=cv2.INTER_AREA)\n",
    "\n",
    "#LOAD BG_IMG\n",
    "img = cv2.imread('stock-photo.jpg')[:,:,::-1]\n",
    "b_img, g_img, r_img = cv2.split(img)\n",
    "a_img = np.ones(b_img.shape, dtype=b_img.dtype) * 255\n",
    "img = cv2.merge((b_img, g_img, r_img, a_img))\n",
    "\n",
    "# def read_transparent_png(filename):\n",
    "#     image_4channel = cv2.imread(filename, cv2.IMREAD_UNCHANGED)\n",
    "#     alpha_channel = image_4channel[:,:,3]\n",
    "#     rgb_channels = image_4channel[:,:,:3]\n",
    "    \n",
    "#     # White Background Image\n",
    "#     white_background_image = np.ones_like(rgb_channels, dtype=np.uint8) * 255\n",
    "    \n",
    "#     # Alpha factor\n",
    "#     alpha_factor = alpha_channel[:,:,np.newaxis].astype(np.float32) / 255.0\n",
    "#     alpha_factor = np.concatenate((alpha_factor,alpha_factor,alpha_factor), axis=2)\n",
    "\n",
    "#     # Transparent Image Rendered on White Background\n",
    "#     base = rgb_channels.astype(np.float32) * alpha_factor\n",
    "#     white = white_background_image.astype(np.float32) * (1 - alpha_factor)\n",
    "#     final_image = base + white\n",
    "#     return final_image.astype(np.uint8)\n",
    "\n",
    "# watermark = read_transparent_png('watermark-01.png')\n",
    "# watermark = cv2.resize(watermark, (0,0), fx=0.25, fy=0.25, interpolation=cv2.INTER_AREA)\n"
   ]
  },
  {
   "cell_type": "code",
   "execution_count": 2,
   "metadata": {},
   "outputs": [],
   "source": [
    "#OVERLAY TO MIDDLE\n",
    "h_img, w_img, _ = img.shape\n",
    "center_y = int(h_img/2)\n",
    "center_x = int(w_img/2)\n",
    "h_wm, w_wm, _ = watermark.shape\n",
    "top_y = center_y - int(h_wm/2)\n",
    "left_x = center_x - int(w_wm/2)\n",
    "bottom_y = top_y + h_wm\n",
    "right_x = left_x + w_wm\n",
    "\n",
    "roi = img[top_y:bottom_y, left_x:right_x]\n",
    "result = cv2.addWeighted(roi, 0, watermark, 1, 0)\n",
    "img[top_y:bottom_y, left_x:right_x] = result"
   ]
  },
  {
   "cell_type": "code",
   "execution_count": 3,
   "metadata": {},
   "outputs": [],
   "source": [
    "img[0:0+watermark.shape[0], 0:0+watermark.shape[1],:] = watermark"
   ]
  },
  {
   "cell_type": "code",
   "execution_count": 4,
   "metadata": {},
   "outputs": [],
   "source": [
    "plt.imsave('watermarked-photo.png', img)"
   ]
  },
  {
   "cell_type": "code",
   "execution_count": null,
   "metadata": {},
   "outputs": [],
   "source": []
  }
 ],
 "metadata": {
  "interpreter": {
   "hash": "138552b4cc74533000169221625a7c28753a4e09ad76d57b88d53d6d256c99dc"
  },
  "kernelspec": {
   "display_name": "Python 3.10.0 64-bit",
   "language": "python",
   "name": "python3"
  },
  "language_info": {
   "codemirror_mode": {
    "name": "ipython",
    "version": 3
   },
   "file_extension": ".py",
   "mimetype": "text/x-python",
   "name": "python",
   "nbconvert_exporter": "python",
   "pygments_lexer": "ipython3",
   "version": "3.10.0"
  },
  "orig_nbformat": 4
 },
 "nbformat": 4,
 "nbformat_minor": 2
}
